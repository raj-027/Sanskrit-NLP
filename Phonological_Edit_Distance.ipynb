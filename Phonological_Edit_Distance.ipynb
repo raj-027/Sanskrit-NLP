{
  "nbformat": 4,
  "nbformat_minor": 0,
  "metadata": {
    "colab": {
      "provenance": [],
      "authorship_tag": "ABX9TyOeeRH7WpBj5QUdzArLY0fM",
      "include_colab_link": true
    },
    "kernelspec": {
      "name": "python3",
      "display_name": "Python 3"
    },
    "language_info": {
      "name": "python"
    }
  },
  "cells": [
    {
      "cell_type": "markdown",
      "metadata": {
        "id": "view-in-github",
        "colab_type": "text"
      },
      "source": [
        "<a href=\"https://colab.research.google.com/github/raj-027/Sanskrit-NLP/blob/main/Phonological_Edit_Distance.ipynb\" target=\"_parent\"><img src=\"https://colab.research.google.com/assets/colab-badge.svg\" alt=\"Open In Colab\"/></a>"
      ]
    },
    {
      "cell_type": "markdown",
      "source": [
        "# Computing edit distance"
      ],
      "metadata": {
        "id": "QehQ4q3yuZEB"
      }
    },
    {
      "cell_type": "code",
      "execution_count": 13,
      "metadata": {
        "id": "MCYtUWP6uQn5"
      },
      "outputs": [],
      "source": [
        "import torch"
      ]
    },
    {
      "cell_type": "code",
      "source": [
        "sanskrit_vowels = {\n",
        "    \"अ\": {\"ipa\": \"ɐ\", \"height\": \"near-open\", \"backness\": \"central\", \"rounded\": False, \"length\": \"short\", \"diphthong\": False},\n",
        "    \"आ\": {\"ipa\": \"ɐː\", \"height\": \"near-open\", \"backness\": \"central\", \"rounded\": False, \"length\": \"long\", \"diphthong\": False},\n",
        "    \"इ\": {\"ipa\": \"i\", \"height\": \"close\", \"backness\": \"front\", \"rounded\": False, \"length\": \"short\", \"diphthong\": False},\n",
        "    \"ई\": {\"ipa\": \"iː\", \"height\": \"close\", \"backness\": \"front\", \"rounded\": False, \"length\": \"long\", \"diphthong\": False},\n",
        "    \"उ\": {\"ipa\": \"u\", \"height\": \"close\", \"backness\": \"back\", \"rounded\": True, \"length\": \"short\", \"diphthong\": False},\n",
        "    \"ऊ\": {\"ipa\": \"uː\", \"height\": \"close\", \"backness\": \"back\", \"rounded\": True, \"length\": \"long\", \"diphthong\": False},\n",
        "    \"ऋ\": {\"ipa\": \"r̻ɘ\", \"height\": \"close-mid\", \"backness\": \"central\", \"rounded\": False, \"length\": \"short\", \"diphthong\": False},\n",
        "    \"ॠ\": {\"ipa\": \"r̻ɘː\", \"height\": \"close-mid\", \"backness\": \"central\", \"rounded\": False, \"length\": \"long\", \"diphthong\": False},\n",
        "    \"ऌ\": {\"ipa\": \"l̻ɘ\", \"height\": \"close-mid\", \"backness\": \"central\", \"rounded\": False, \"length\": \"short\", \"diphthong\": False},\n",
        "    \"ॡ\": {\"ipa\": \"l̻ɘː\", \"height\": \"close-mid\", \"backness\": \"central\", \"rounded\": False, \"length\": \"long\", \"diphthong\": False},\n",
        "    \"ए\": {\"ipa\": \"e̞ː\", \"height\": \"mid\", \"backness\": \"front\", \"rounded\": False, \"length\": \"long\", \"diphthong\": False},\n",
        "    \"ऐ\": {\"ipa\": \"ɐ͡iː\", \"height\": \"diphthong\", \"backness\": \"central-front\", \"rounded\": False, \"length\": \"long\", \"diphthong\": True},\n",
        "    \"ओ\": {\"ipa\": \"o̞ː\", \"height\": \"mid\", \"backness\": \"back\", \"rounded\": True, \"length\": \"long\", \"diphthong\": False},\n",
        "    \"औ\": {\"ipa\": \"ɐ͡uː\", \"height\": \"diphthong\", \"backness\": \"central-back\", \"rounded\": True, \"length\": \"long\", \"diphthong\": True},\n",
        "    \"ः\": {\"ipa\": \"h\", \"height\": None, \"backness\": None, \"rounded\": None, \"length\": None, \"diphthong\": False, \"special\": \"visarga\"},\n",
        "    \"ं\": {\"ipa\": \"̃\", \"height\": None, \"backness\": None, \"rounded\": None, \"length\": None, \"diphthong\": False, \"special\": \"anusvara\"}\n",
        "}\n",
        "\n",
        "# ---- 2. Full Sanskrit consonant inventory (classical) ----\n",
        "sanskrit_consonants = {\n",
        "    # Velars\n",
        "    \"क\": {\"ipa\": \"k\", \"manner\": \"plosive\", \"voiced\": False, \"aspirated\": False, \"passive\": \"velar\"},\n",
        "    \"ख\": {\"ipa\": \"kʰ\", \"manner\": \"plosive\", \"voiced\": False, \"aspirated\": True, \"passive\": \"velar\"},\n",
        "    \"ग\": {\"ipa\": \"g\", \"manner\": \"plosive\", \"voiced\": True, \"aspirated\": False, \"passive\": \"velar\"},\n",
        "    \"घ\": {\"ipa\": \"gɦ\", \"manner\": \"plosive\", \"voiced\": True, \"aspirated\": True, \"passive\": \"velar\"},\n",
        "    \"ङ\": {\"ipa\": \"ŋ\", \"manner\": \"nasal\", \"voiced\": True, \"aspirated\": False, \"passive\": \"velar\"},\n",
        "    # Palatals / alveolopalatal (cavarga)\n",
        "    \"च\": {\"ipa\": \"t͡ɕ\", \"manner\": \"affricate\", \"voiced\": False, \"aspirated\": False, \"passive\": \"alveolopalatal\"},\n",
        "    \"छ\": {\"ipa\": \"t͡ɕʰ\", \"manner\": \"affricate\", \"voiced\": False, \"aspirated\": True, \"passive\": \"alveolopalatal\"},\n",
        "    \"ज\": {\"ipa\": \"d͡ʑ\", \"manner\": \"affricate\", \"voiced\": True, \"aspirated\": False, \"passive\": \"alveolopalatal\"},\n",
        "    \"झ\": {\"ipa\": \"d͡ʑɦ\", \"manner\": \"affricate\", \"voiced\": True, \"aspirated\": True, \"passive\": \"alveolopalatal\"},\n",
        "    \"ञ\": {\"ipa\": \"ɲ\", \"manner\": \"nasal\", \"voiced\": True, \"aspirated\": False, \"passive\": \"palatal\"},\n",
        "    # Retroflex\n",
        "    \"ट\": {\"ipa\": \"ʈ\", \"manner\": \"plosive\", \"voiced\": False, \"aspirated\": False, \"passive\": \"retroflex\"},\n",
        "    \"ठ\": {\"ipa\": \"ʈʰ\", \"manner\": \"plosive\", \"voiced\": False, \"aspirated\": True, \"passive\": \"retroflex\"},\n",
        "    \"ड\": {\"ipa\": \"ɖ\", \"manner\": \"plosive\", \"voiced\": True, \"aspirated\": False, \"passive\": \"retroflex\"},\n",
        "    \"ढ\": {\"ipa\": \"ɖɦ\", \"manner\": \"plosive\", \"voiced\": True, \"aspirated\": True, \"passive\": \"retroflex\"},\n",
        "    \"ण\": {\"ipa\": \"ɳ\", \"manner\": \"nasal\", \"voiced\": True, \"aspirated\": False, \"passive\": \"retroflex\"},\n",
        "    \"ळ\": {\"ipa\": \"ɭ̆\", \"manner\": \"lateral_flap\", \"voiced\": True, \"aspirated\": False, \"passive\": \"retroflex\"},\n",
        "    # Dentals (laminal dental series)\n",
        "    \"त\": {\"ipa\": \"t̪\", \"manner\": \"plosive\", \"voiced\": False, \"aspirated\": False, \"passive\": \"dental\"},\n",
        "    \"थ\": {\"ipa\": \"t̪ʰ\", \"manner\": \"plosive\", \"voiced\": False, \"aspirated\": True, \"passive\": \"dental\"},\n",
        "    \"द\": {\"ipa\": \"d̪\", \"manner\": \"plosive\", \"voiced\": True, \"aspirated\": False, \"passive\": \"dental\"},\n",
        "    \"ध\": {\"ipa\": \"d̪ɦ\", \"manner\": \"plosive\", \"voiced\": True, \"aspirated\": True, \"passive\": \"dental\"},\n",
        "    \"न\": {\"ipa\": \"n̪\", \"manner\": \"nasal\", \"voiced\": True, \"aspirated\": False, \"passive\": \"dental\"},\n",
        "    # Labials\n",
        "    \"प\": {\"ipa\": \"p\", \"manner\": \"plosive\", \"voiced\": False, \"aspirated\": False, \"passive\": \"bilabial\"},\n",
        "    \"फ\": {\"ipa\": \"pʰ\", \"manner\": \"plosive\", \"voiced\": False, \"aspirated\": True, \"passive\": \"bilabial\"},\n",
        "    \"ब\": {\"ipa\": \"b\", \"manner\": \"plosive\", \"voiced\": True, \"aspirated\": False, \"passive\": \"bilabial\"},\n",
        "    \"भ\": {\"ipa\": \"bɦ\", \"manner\": \"plosive\", \"voiced\": True, \"aspirated\": True, \"passive\": \"bilabial\"},\n",
        "    \"म\": {\"ipa\": \"m\", \"manner\": \"nasal\", \"voiced\": True, \"aspirated\": False, \"passive\": \"bilabial\"},\n",
        "    # Approximants / semivowels / liquids\n",
        "    \"य\": {\"ipa\": \"j\", \"manner\": \"approximant\", \"voiced\": True, \"aspirated\": False, \"passive\": \"palatal\"},\n",
        "    \"र\": {\"ipa\": \"ɾ̻\", \"manner\": \"flap\", \"voiced\": True, \"aspirated\": False, \"passive\": \"alveolar\"},\n",
        "    \"ल\": {\"ipa\": \"l̪\", \"manner\": \"lateral_approximant\", \"voiced\": True, \"aspirated\": False, \"passive\": \"dental\"},\n",
        "    \"व\": {\"ipa\": \"ʋ\", \"manner\": \"approximant\", \"voiced\": True, \"aspirated\": False, \"passive\": \"labiodental\"},\n",
        "    # Sibilants and fricatives\n",
        "    \"श\": {\"ipa\": \"ɕ\", \"manner\": \"fricative\", \"voiced\": False, \"aspirated\": False, \"passive\": \"palatal\"},\n",
        "    \"ष\": {\"ipa\": \"ʂ\", \"manner\": \"fricative\", \"voiced\": False, \"aspirated\": False, \"passive\": \"retroflex\"},\n",
        "    \"स\": {\"ipa\": \"s̪\", \"manner\": \"fricative\", \"voiced\": False, \"aspirated\": False, \"passive\": \"dental\"},\n",
        "    \"ह\": {\"ipa\": \"ɦ\", \"manner\": \"fricative\", \"voiced\": True, \"aspirated\": False, \"passive\": \"glottal\"},\n",
        "    # Marginal affricate symbols (mapped to Devanagari approximations if needed)\n",
        "    \"च̣\": {\"ipa\": \"t͡ʃ\", \"manner\": \"affricate\", \"voiced\": False, \"aspirated\": False, \"passive\": \"alveolopalatal\"},  # variant\n",
        "    \"ज̣\": {\"ipa\": \"d͡ʒ\", \"manner\": \"affricate\", \"voiced\": True, \"aspirated\": False, \"passive\": \"alveolopalatal\"}   # variant\n",
        "}"
      ],
      "metadata": {
        "id": "G3nb_2i0unVe"
      },
      "execution_count": 14,
      "outputs": []
    },
    {
      "cell_type": "code",
      "source": [
        "unified_features = [\n",
        "    # Core phonation/aspiration/nasality (binary opposites)\n",
        "    \"voiced\", \"aspirated\", \"nasal\",\n",
        "\n",
        "    # Manner (consonants) - one-hot\n",
        "    \"plosive\", \"fricative\", \"affricate\", \"approximant\", \"trill\", \"flap\",\n",
        "    \"lateral_approximant\", \"lateral_flap\",\n",
        "\n",
        "    # Place of articulation (consonants) - one-hot\n",
        "    \"bilabial\", \"labiodental\", \"dental\", \"alveolar\", \"retroflex\",\n",
        "    \"alveolopalatal\", \"palatal\", \"velar\", \"post_velar\", \"glottal\",\n",
        "\n",
        "\n",
        "\n",
        "    # Vowel height - binary opposites\n",
        "    \"high\", \"mid\", \"low\", \"close_mid\", \"near_open\",\n",
        "\n",
        "    # Vowel backness - binary opposites\n",
        "    \"front\", \"back\", \"central\", \"central_front\", \"central_back\",\n",
        "\n",
        "    # Vowel rounding\n",
        "    \"rounded\",\n",
        "\n",
        "    # Vowel length\n",
        "    \"long\",\n",
        "\n",
        "    # Diphthong\n",
        "    \"diphthong\"\n",
        "]\n"
      ],
      "metadata": {
        "id": "zJJ2ss1DuqxV"
      },
      "execution_count": 15,
      "outputs": []
    },
    {
      "cell_type": "code",
      "source": [
        "def phoneme_to_unified(ch):\n",
        "    vec = []\n",
        "\n",
        "    if ch in sanskrit_consonants:\n",
        "        feats = sanskrit_consonants[ch]\n",
        "\n",
        "        # Binary opposites\n",
        "        vec.append(+1 if feats.get(\"voiced\") else -1)\n",
        "        vec.append(+1 if feats.get(\"aspirated\") else -1)\n",
        "        vec.append(+1 if feats.get(\"manner\") == \"nasal\" else -1)\n",
        "\n",
        "        # Manner one-hot\n",
        "        manner_list = [\"plosive\", \"fricative\", \"affricate\", \"approximant\", \"trill\", \"flap\",\n",
        "                       \"lateral_approximant\", \"lateral_flap\"]\n",
        "        for m in manner_list:\n",
        "            vec.append(+1 if feats.get(\"manner\") == m else 0)\n",
        "\n",
        "        # Place one-hot\n",
        "        place_list = [\"bilabial\", \"labiodental\", \"dental\", \"alveolar\", \"retroflex\",\n",
        "                      \"alveolopalatal\", \"palatal\", \"velar\", \"post_velar\", \"glottal\"]\n",
        "        for p in place_list:\n",
        "            vec.append(+1 if feats.get(\"passive\") == p else 0)\n",
        "\n",
        "        # Vowel features irrelevant here → 0s\n",
        "        vec.extend([0] * (len(unified_features) - len(vec)))\n",
        "         # --- Vowel features irrelevant for consonants ---> 14\n",
        "         # high, mid, low, close_mid, near_open, front, back, central, central_front, central_back, rounded, long, diphthong\n",
        "\n",
        "\n",
        "    elif ch in sanskrit_vowels:\n",
        "        feats = sanskrit_vowels[ch]\n",
        "\n",
        "        # Consonant binary opposites irrelevant\n",
        "        vec.extend([0, 0, 0])\n",
        "\n",
        "        # Consonant manners irrelevant\n",
        "        vec.extend([0] * 8)\n",
        "\n",
        "        # Consonant places irrelevant\n",
        "        vec.extend([0] * 10)\n",
        "\n",
        "\n",
        "\n",
        "        # Vowel height\n",
        "         # --- Vowel height (coarse + fine) ---\n",
        "        h = (feats.get(\"height\") or \"\").lower()\n",
        "        # Initialize all as irrelevant\n",
        "        high = mid = low = close_mid = near_open = 0\n",
        "\n",
        "        if h == \"close\":\n",
        "            high, mid, low = +1, -1, -1\n",
        "            close_mid, near_open = -1, -1\n",
        "        elif h == \"close-mid\":\n",
        "            # fine-grained: close_mid present; coarse: treat as mid-like\n",
        "            high, mid, low = -1, +1, -1\n",
        "            close_mid, near_open = +1, -1\n",
        "        elif h == \"mid\":\n",
        "            high, mid, low = -1, +1, -1\n",
        "            close_mid, near_open = 0, 0\n",
        "        elif h == \"near-open\":\n",
        "            high, mid, low = -1, -1, +1\n",
        "            close_mid, near_open = -1, +1\n",
        "        elif h == \"diphthong\":\n",
        "            # Sanskrit diphthongs start near [ɐ] → approximate as near-open\n",
        "            high, mid, low = -1, -1, +1\n",
        "            close_mid, near_open = -1, +1\n",
        "        else:\n",
        "            # Unknown/none → keep 0 (irrelevant)\n",
        "            pass\n",
        "\n",
        "        vec.extend([high, mid, low, close_mid, near_open])\n",
        "\n",
        "\n",
        "\n",
        "        # Backness\n",
        "       # --- Vowel backness (coarse + blended) ---\n",
        "        b = (feats.get(\"backness\") or \"\").lower()\n",
        "        front = back = central = central_front = central_back = 0\n",
        "\n",
        "        if \"central\" in b and \"front\" in b:\n",
        "            # blended: central-front\n",
        "            central, front, back = +1, +1, -1\n",
        "            central_front, central_back = +1, -1\n",
        "        elif \"central\" in b and \"back\" in b:\n",
        "            # blended: central-back\n",
        "            central, back, front = +1, +1, -1\n",
        "            central_front, central_back = -1, +1\n",
        "        elif \"front\" in b:\n",
        "            front, back, central = +1, -1, -1\n",
        "            central_front, central_back = 0, 0\n",
        "        elif \"back\" in b:\n",
        "            back, front, central = +1, -1, -1\n",
        "            central_front, central_back = 0, 0\n",
        "        elif \"central\" in b:\n",
        "            central, front, back = +1, -1, -1\n",
        "            central_front, central_back = 0, 0\n",
        "        else:\n",
        "            # unknown/none → irrelevant\n",
        "            pass\n",
        "\n",
        "        vec.extend([front, back, central, central_front, central_back])\n",
        "\n",
        "\n",
        "\n",
        "\n",
        "        # Rounded\n",
        "        if feats.get(\"rounded\") is True:\n",
        "            vec.append(+1)\n",
        "        elif feats.get(\"rounded\") is False:\n",
        "            vec.append(-1)\n",
        "        else:\n",
        "            vec.append(0)\n",
        "\n",
        "        # Long\n",
        "        if feats.get(\"length\") == \"long\":\n",
        "            vec.append(+1)\n",
        "        elif feats.get(\"length\") == \"short\":\n",
        "            vec.append(-1)\n",
        "        else:\n",
        "            vec.append(0)\n",
        "\n",
        "        # Diphthong\n",
        "        if feats.get(\"diphthong\"):\n",
        "            vec.append(+1)\n",
        "        else:\n",
        "            vec.append(-1)\n",
        "\n",
        "    else:\n",
        "        # Unknown phoneme → all zeros\n",
        "        vec = [0] * len(unified_features)\n",
        "\n",
        "    # Safety: pad if anything short (shouldn’t happen, but belt-and-suspenders)\n",
        "    if len(vec) < len(unified_features):\n",
        "        vec.extend([0] * (len(unified_features) - len(vec)))\n",
        "\n",
        "\n",
        "    return vec\n"
      ],
      "metadata": {
        "id": "Z7zocrKyu3sr"
      },
      "execution_count": 16,
      "outputs": []
    },
    {
      "cell_type": "code",
      "source": [
        "def word_to_unified_sequence(word):\n",
        "    return torch.tensor([phoneme_to_unified(ch) for ch in word], dtype=torch.float32)\n"
      ],
      "metadata": {
        "id": "ZhouaQ4Su9WE"
      },
      "execution_count": 17,
      "outputs": []
    },
    {
      "cell_type": "code",
      "source": [
        "import numpy as np\n",
        "\n",
        "def substitution_cost(vec1, vec2, normalized=True):\n",
        "    \"\"\"\n",
        "    Compute phoneme substitution cost between two feature vectors.\n",
        "    If normalized=True, returns value in [0,1].\n",
        "    If normalized=False, returns raw L1 distance.\n",
        "    \"\"\"\n",
        "    diff = np.abs(vec1 - vec2)\n",
        "    if normalized:\n",
        "        return np.sum(diff) / (2 * len(vec1))   # normalized L1\n",
        "    else:\n",
        "        return np.sum(diff)                     # raw L1\n",
        "\n",
        "\n",
        "def phonological_edit_distance(word1, word2, normalized=True, gap_penalty=1.0):\n",
        "    seq1 = word_to_unified_sequence(word1).numpy()\n",
        "    seq2 = word_to_unified_sequence(word2).numpy()\n",
        "\n",
        "    n, m = len(seq1), len(seq2)\n",
        "    dp = np.zeros((n+1, m+1))\n",
        "\n",
        "    for i in range(1, n+1):\n",
        "        dp[i][0] = i * gap_penalty\n",
        "    for j in range(1, m+1):\n",
        "        dp[0][j] = j * gap_penalty\n",
        "\n",
        "    for i in range(1, n+1):\n",
        "        for j in range(1, m+1):\n",
        "            #sub_cost = np.mean(np.abs(seq1[i-1] - seq2[j-1])) / 2  # normalised\n",
        "            #sub_cost = np.sum(np.abs(seq1[i-1] - seq2[j-1]))  # unnormalized L1\n",
        "            sub_cost = substitution_cost(seq1[i-1], seq2[j-1], normalized)\n",
        "            dp[i][j] = min(\n",
        "                dp[i-1][j] + gap_penalty,       # deletion\n",
        "                dp[i][j-1] + gap_penalty,       # insertion\n",
        "                dp[i-1][j-1] + sub_cost         # substitution\n",
        "            )\n",
        "\n",
        "    return dp[n][m]\n"
      ],
      "metadata": {
        "id": "8s6jgFcTvF0R"
      },
      "execution_count": 33,
      "outputs": []
    },
    {
      "cell_type": "code",
      "source": [
        "# Normalized cost (∈ [0,1]) — recommended for cross-word comparability\n",
        "print(phonological_edit_distance(\"सार्थम्\", \"ऋग्वेदीय\", normalized=True))\n",
        "\n",
        "# Raw L1 cost (unnormalized, depends on feature dimensionality)\n",
        "print(phonological_edit_distance(\"सार्थम्\", \"ऋग्वेदीय\", normalized=False))\n"
      ],
      "metadata": {
        "id": "kWx3zm1FJOJi",
        "outputId": "cc9d2088-c20f-4eb6-aae9-ad8e4b7c2066",
        "colab": {
          "base_uri": "https://localhost:8080/"
        }
      },
      "execution_count": 35,
      "outputs": [
        {
          "output_type": "stream",
          "name": "stdout",
          "text": [
            "1.3382353000342846\n",
            "9.0\n"
          ]
        }
      ]
    },
    {
      "cell_type": "code",
      "source": [
        "def print_word_vectors(word):\n",
        "    seq = word_to_unified_sequence(word).numpy()\n",
        "    print(f\"\\nWord: {word}\")\n",
        "    for i, vec in enumerate(seq):\n",
        "        print(f\"{word[i]} -> {vec.tolist()}\")\n",
        "\n",
        "def phonological_edit_distance_debug(word1, word2):\n",
        "    print_word_vectors(word1)\n",
        "    print_word_vectors(word2)\n",
        "\n",
        "    dist = phonological_edit_distance(word1, word2)\n",
        "    print(f\"\\nPhonological edit distance ({word1} vs {word2}): {dist}\")\n",
        "\n",
        "\n"
      ],
      "metadata": {
        "id": "1CrBA0G-vP71"
      },
      "execution_count": 31,
      "outputs": []
    },
    {
      "cell_type": "code",
      "source": [
        "phonological_edit_distance_debug(word1=\"सार्थम्\", word2=\"ऋग्वेदीय\")\n",
        "# नासदीय सूक्तम् ऋग्वेदीय सार्थम्"
      ],
      "metadata": {
        "colab": {
          "base_uri": "https://localhost:8080/"
        },
        "id": "zxbNvdI3vSTR",
        "outputId": "624dd7f0-ac07-4537-9fe9-742ed849b60d"
      },
      "execution_count": 32,
      "outputs": [
        {
          "output_type": "stream",
          "name": "stdout",
          "text": [
            "\n",
            "Word: सार्थम्\n",
            "स -> [-1.0, -1.0, -1.0, 0.0, 1.0, 0.0, 0.0, 0.0, 0.0, 0.0, 0.0, 0.0, 0.0, 1.0, 0.0, 0.0, 0.0, 0.0, 0.0, 0.0, 0.0, 0.0, 0.0, 0.0, 0.0, 0.0, 0.0, 0.0, 0.0, 0.0, 0.0, 0.0, 0.0, 0.0]\n",
            "ा -> [0.0, 0.0, 0.0, 0.0, 0.0, 0.0, 0.0, 0.0, 0.0, 0.0, 0.0, 0.0, 0.0, 0.0, 0.0, 0.0, 0.0, 0.0, 0.0, 0.0, 0.0, 0.0, 0.0, 0.0, 0.0, 0.0, 0.0, 0.0, 0.0, 0.0, 0.0, 0.0, 0.0, 0.0]\n",
            "र -> [1.0, -1.0, -1.0, 0.0, 0.0, 0.0, 0.0, 0.0, 1.0, 0.0, 0.0, 0.0, 0.0, 0.0, 1.0, 0.0, 0.0, 0.0, 0.0, 0.0, 0.0, 0.0, 0.0, 0.0, 0.0, 0.0, 0.0, 0.0, 0.0, 0.0, 0.0, 0.0, 0.0, 0.0]\n",
            "् -> [0.0, 0.0, 0.0, 0.0, 0.0, 0.0, 0.0, 0.0, 0.0, 0.0, 0.0, 0.0, 0.0, 0.0, 0.0, 0.0, 0.0, 0.0, 0.0, 0.0, 0.0, 0.0, 0.0, 0.0, 0.0, 0.0, 0.0, 0.0, 0.0, 0.0, 0.0, 0.0, 0.0, 0.0]\n",
            "थ -> [-1.0, 1.0, -1.0, 1.0, 0.0, 0.0, 0.0, 0.0, 0.0, 0.0, 0.0, 0.0, 0.0, 1.0, 0.0, 0.0, 0.0, 0.0, 0.0, 0.0, 0.0, 0.0, 0.0, 0.0, 0.0, 0.0, 0.0, 0.0, 0.0, 0.0, 0.0, 0.0, 0.0, 0.0]\n",
            "म -> [1.0, -1.0, 1.0, 0.0, 0.0, 0.0, 0.0, 0.0, 0.0, 0.0, 0.0, 1.0, 0.0, 0.0, 0.0, 0.0, 0.0, 0.0, 0.0, 0.0, 0.0, 0.0, 0.0, 0.0, 0.0, 0.0, 0.0, 0.0, 0.0, 0.0, 0.0, 0.0, 0.0, 0.0]\n",
            "् -> [0.0, 0.0, 0.0, 0.0, 0.0, 0.0, 0.0, 0.0, 0.0, 0.0, 0.0, 0.0, 0.0, 0.0, 0.0, 0.0, 0.0, 0.0, 0.0, 0.0, 0.0, 0.0, 0.0, 0.0, 0.0, 0.0, 0.0, 0.0, 0.0, 0.0, 0.0, 0.0, 0.0, 0.0]\n",
            "\n",
            "Word: ऋग्वेदीय\n",
            "ऋ -> [0.0, 0.0, 0.0, 0.0, 0.0, 0.0, 0.0, 0.0, 0.0, 0.0, 0.0, 0.0, 0.0, 0.0, 0.0, 0.0, 0.0, 0.0, 0.0, 0.0, 0.0, -1.0, 1.0, -1.0, 1.0, -1.0, -1.0, -1.0, 1.0, 0.0, 0.0, -1.0, -1.0, -1.0]\n",
            "ग -> [1.0, -1.0, -1.0, 1.0, 0.0, 0.0, 0.0, 0.0, 0.0, 0.0, 0.0, 0.0, 0.0, 0.0, 0.0, 0.0, 0.0, 0.0, 1.0, 0.0, 0.0, 0.0, 0.0, 0.0, 0.0, 0.0, 0.0, 0.0, 0.0, 0.0, 0.0, 0.0, 0.0, 0.0]\n",
            "् -> [0.0, 0.0, 0.0, 0.0, 0.0, 0.0, 0.0, 0.0, 0.0, 0.0, 0.0, 0.0, 0.0, 0.0, 0.0, 0.0, 0.0, 0.0, 0.0, 0.0, 0.0, 0.0, 0.0, 0.0, 0.0, 0.0, 0.0, 0.0, 0.0, 0.0, 0.0, 0.0, 0.0, 0.0]\n",
            "व -> [1.0, -1.0, -1.0, 0.0, 0.0, 0.0, 1.0, 0.0, 0.0, 0.0, 0.0, 0.0, 1.0, 0.0, 0.0, 0.0, 0.0, 0.0, 0.0, 0.0, 0.0, 0.0, 0.0, 0.0, 0.0, 0.0, 0.0, 0.0, 0.0, 0.0, 0.0, 0.0, 0.0, 0.0]\n",
            "े -> [0.0, 0.0, 0.0, 0.0, 0.0, 0.0, 0.0, 0.0, 0.0, 0.0, 0.0, 0.0, 0.0, 0.0, 0.0, 0.0, 0.0, 0.0, 0.0, 0.0, 0.0, 0.0, 0.0, 0.0, 0.0, 0.0, 0.0, 0.0, 0.0, 0.0, 0.0, 0.0, 0.0, 0.0]\n",
            "द -> [1.0, -1.0, -1.0, 1.0, 0.0, 0.0, 0.0, 0.0, 0.0, 0.0, 0.0, 0.0, 0.0, 1.0, 0.0, 0.0, 0.0, 0.0, 0.0, 0.0, 0.0, 0.0, 0.0, 0.0, 0.0, 0.0, 0.0, 0.0, 0.0, 0.0, 0.0, 0.0, 0.0, 0.0]\n",
            "ी -> [0.0, 0.0, 0.0, 0.0, 0.0, 0.0, 0.0, 0.0, 0.0, 0.0, 0.0, 0.0, 0.0, 0.0, 0.0, 0.0, 0.0, 0.0, 0.0, 0.0, 0.0, 0.0, 0.0, 0.0, 0.0, 0.0, 0.0, 0.0, 0.0, 0.0, 0.0, 0.0, 0.0, 0.0]\n",
            "य -> [1.0, -1.0, -1.0, 0.0, 0.0, 0.0, 1.0, 0.0, 0.0, 0.0, 0.0, 0.0, 0.0, 0.0, 0.0, 0.0, 0.0, 1.0, 0.0, 0.0, 0.0, 0.0, 0.0, 0.0, 0.0, 0.0, 0.0, 0.0, 0.0, 0.0, 0.0, 0.0, 0.0, 0.0]\n",
            "\n",
            "Phonological edit distance (सार्थम् vs ऋग्वेदीय): 1.3382353000342846\n"
          ]
        }
      ]
    }
  ]
}