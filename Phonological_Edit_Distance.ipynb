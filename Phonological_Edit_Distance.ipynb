{
  "nbformat": 4,
  "nbformat_minor": 0,
  "metadata": {
    "colab": {
      "provenance": [],
      "authorship_tag": "ABX9TyOkWDBOFkqAjoxF7qjMPmh+",
      "include_colab_link": true
    },
    "kernelspec": {
      "name": "python3",
      "display_name": "Python 3"
    },
    "language_info": {
      "name": "python"
    }
  },
  "cells": [
    {
      "cell_type": "markdown",
      "metadata": {
        "id": "view-in-github",
        "colab_type": "text"
      },
      "source": [
        "<a href=\"https://colab.research.google.com/github/raj-027/Sanskrit-NLP/blob/main/Phonological_Edit_Distance.ipynb\" target=\"_parent\"><img src=\"https://colab.research.google.com/assets/colab-badge.svg\" alt=\"Open In Colab\"/></a>"
      ]
    },
    {
      "cell_type": "markdown",
      "source": [
        "# Computing edit distance"
      ],
      "metadata": {
        "id": "QehQ4q3yuZEB"
      }
    },
    {
      "cell_type": "code",
      "execution_count": 8,
      "metadata": {
        "id": "MCYtUWP6uQn5"
      },
      "outputs": [],
      "source": [
        "import torch"
      ]
    },
    {
      "cell_type": "code",
      "source": [
        "sanskrit_vowels = {\n",
        "    \"अ\": {\"ipa\": \"ɐ\", \"height\": \"near-open\", \"backness\": \"central\", \"rounded\": False, \"length\": \"short\", \"diphthong\": False},\n",
        "    \"आ\": {\"ipa\": \"ɐː\", \"height\": \"near-open\", \"backness\": \"central\", \"rounded\": False, \"length\": \"long\", \"diphthong\": False},\n",
        "    \"इ\": {\"ipa\": \"i\", \"height\": \"close\", \"backness\": \"front\", \"rounded\": False, \"length\": \"short\", \"diphthong\": False},\n",
        "    \"ई\": {\"ipa\": \"iː\", \"height\": \"close\", \"backness\": \"front\", \"rounded\": False, \"length\": \"long\", \"diphthong\": False},\n",
        "    \"उ\": {\"ipa\": \"u\", \"height\": \"close\", \"backness\": \"back\", \"rounded\": True, \"length\": \"short\", \"diphthong\": False},\n",
        "    \"ऊ\": {\"ipa\": \"uː\", \"height\": \"close\", \"backness\": \"back\", \"rounded\": True, \"length\": \"long\", \"diphthong\": False},\n",
        "    \"ऋ\": {\"ipa\": \"r̻ɘ\", \"height\": \"close-mid\", \"backness\": \"central\", \"rounded\": False, \"length\": \"short\", \"diphthong\": False},\n",
        "    \"ॠ\": {\"ipa\": \"r̻ɘː\", \"height\": \"close-mid\", \"backness\": \"central\", \"rounded\": False, \"length\": \"long\", \"diphthong\": False},\n",
        "    \"ऌ\": {\"ipa\": \"l̻ɘ\", \"height\": \"close-mid\", \"backness\": \"central\", \"rounded\": False, \"length\": \"short\", \"diphthong\": False},\n",
        "    \"ॡ\": {\"ipa\": \"l̻ɘː\", \"height\": \"close-mid\", \"backness\": \"central\", \"rounded\": False, \"length\": \"long\", \"diphthong\": False},\n",
        "    \"ए\": {\"ipa\": \"e̞ː\", \"height\": \"mid\", \"backness\": \"front\", \"rounded\": False, \"length\": \"long\", \"diphthong\": False},\n",
        "    \"ऐ\": {\"ipa\": \"ɐ͡iː\", \"height\": \"diphthong\", \"backness\": \"central-front\", \"rounded\": False, \"length\": \"long\", \"diphthong\": True},\n",
        "    \"ओ\": {\"ipa\": \"o̞ː\", \"height\": \"mid\", \"backness\": \"back\", \"rounded\": True, \"length\": \"long\", \"diphthong\": False},\n",
        "    \"औ\": {\"ipa\": \"ɐ͡uː\", \"height\": \"diphthong\", \"backness\": \"central-back\", \"rounded\": True, \"length\": \"long\", \"diphthong\": True},\n",
        "    \"ः\": {\"ipa\": \"h\", \"height\": None, \"backness\": None, \"rounded\": None, \"length\": None, \"diphthong\": False, \"special\": \"visarga\"},\n",
        "    \"ं\": {\"ipa\": \"̃\", \"height\": None, \"backness\": None, \"rounded\": None, \"length\": None, \"diphthong\": False, \"special\": \"anusvara\"}\n",
        "}\n",
        "\n",
        "# ---- 2. Full Sanskrit consonant inventory (classical) ----\n",
        "sanskrit_consonants = {\n",
        "    # Velars\n",
        "    \"क\": {\"ipa\": \"k\", \"manner\": \"plosive\", \"voiced\": False, \"aspirated\": False, \"passive\": \"velar\"},\n",
        "    \"ख\": {\"ipa\": \"kʰ\", \"manner\": \"plosive\", \"voiced\": False, \"aspirated\": True, \"passive\": \"velar\"},\n",
        "    \"ग\": {\"ipa\": \"g\", \"manner\": \"plosive\", \"voiced\": True, \"aspirated\": False, \"passive\": \"velar\"},\n",
        "    \"घ\": {\"ipa\": \"gɦ\", \"manner\": \"plosive\", \"voiced\": True, \"aspirated\": True, \"passive\": \"velar\"},\n",
        "    \"ङ\": {\"ipa\": \"ŋ\", \"manner\": \"nasal\", \"voiced\": True, \"aspirated\": False, \"passive\": \"velar\"},\n",
        "    # Palatals / alveolopalatal (cavarga)\n",
        "    \"च\": {\"ipa\": \"t͡ɕ\", \"manner\": \"affricate\", \"voiced\": False, \"aspirated\": False, \"passive\": \"alveolopalatal\"},\n",
        "    \"छ\": {\"ipa\": \"t͡ɕʰ\", \"manner\": \"affricate\", \"voiced\": False, \"aspirated\": True, \"passive\": \"alveolopalatal\"},\n",
        "    \"ज\": {\"ipa\": \"d͡ʑ\", \"manner\": \"affricate\", \"voiced\": True, \"aspirated\": False, \"passive\": \"alveolopalatal\"},\n",
        "    \"झ\": {\"ipa\": \"d͡ʑɦ\", \"manner\": \"affricate\", \"voiced\": True, \"aspirated\": True, \"passive\": \"alveolopalatal\"},\n",
        "    \"ञ\": {\"ipa\": \"ɲ\", \"manner\": \"nasal\", \"voiced\": True, \"aspirated\": False, \"passive\": \"palatal\"},\n",
        "    # Retroflex\n",
        "    \"ट\": {\"ipa\": \"ʈ\", \"manner\": \"plosive\", \"voiced\": False, \"aspirated\": False, \"passive\": \"retroflex\"},\n",
        "    \"ठ\": {\"ipa\": \"ʈʰ\", \"manner\": \"plosive\", \"voiced\": False, \"aspirated\": True, \"passive\": \"retroflex\"},\n",
        "    \"ड\": {\"ipa\": \"ɖ\", \"manner\": \"plosive\", \"voiced\": True, \"aspirated\": False, \"passive\": \"retroflex\"},\n",
        "    \"ढ\": {\"ipa\": \"ɖɦ\", \"manner\": \"plosive\", \"voiced\": True, \"aspirated\": True, \"passive\": \"retroflex\"},\n",
        "    \"ण\": {\"ipa\": \"ɳ\", \"manner\": \"nasal\", \"voiced\": True, \"aspirated\": False, \"passive\": \"retroflex\"},\n",
        "    \"ळ\": {\"ipa\": \"ɭ̆\", \"manner\": \"lateral_flap\", \"voiced\": True, \"aspirated\": False, \"passive\": \"retroflex\"},\n",
        "    # Dentals (laminal dental series)\n",
        "    \"त\": {\"ipa\": \"t̪\", \"manner\": \"plosive\", \"voiced\": False, \"aspirated\": False, \"passive\": \"dental\"},\n",
        "    \"थ\": {\"ipa\": \"t̪ʰ\", \"manner\": \"plosive\", \"voiced\": False, \"aspirated\": True, \"passive\": \"dental\"},\n",
        "    \"द\": {\"ipa\": \"d̪\", \"manner\": \"plosive\", \"voiced\": True, \"aspirated\": False, \"passive\": \"dental\"},\n",
        "    \"ध\": {\"ipa\": \"d̪ɦ\", \"manner\": \"plosive\", \"voiced\": True, \"aspirated\": True, \"passive\": \"dental\"},\n",
        "    \"न\": {\"ipa\": \"n̪\", \"manner\": \"nasal\", \"voiced\": True, \"aspirated\": False, \"passive\": \"dental\"},\n",
        "    # Labials\n",
        "    \"प\": {\"ipa\": \"p\", \"manner\": \"plosive\", \"voiced\": False, \"aspirated\": False, \"passive\": \"bilabial\"},\n",
        "    \"फ\": {\"ipa\": \"pʰ\", \"manner\": \"plosive\", \"voiced\": False, \"aspirated\": True, \"passive\": \"bilabial\"},\n",
        "    \"ब\": {\"ipa\": \"b\", \"manner\": \"plosive\", \"voiced\": True, \"aspirated\": False, \"passive\": \"bilabial\"},\n",
        "    \"भ\": {\"ipa\": \"bɦ\", \"manner\": \"plosive\", \"voiced\": True, \"aspirated\": True, \"passive\": \"bilabial\"},\n",
        "    \"म\": {\"ipa\": \"m\", \"manner\": \"nasal\", \"voiced\": True, \"aspirated\": False, \"passive\": \"bilabial\"},\n",
        "    # Approximants / semivowels / liquids\n",
        "    \"य\": {\"ipa\": \"j\", \"manner\": \"approximant\", \"voiced\": True, \"aspirated\": False, \"passive\": \"palatal\"},\n",
        "    \"र\": {\"ipa\": \"ɾ̻\", \"manner\": \"flap\", \"voiced\": True, \"aspirated\": False, \"passive\": \"alveolar\"},\n",
        "    \"ल\": {\"ipa\": \"l̪\", \"manner\": \"lateral_approximant\", \"voiced\": True, \"aspirated\": False, \"passive\": \"dental\"},\n",
        "    \"व\": {\"ipa\": \"ʋ\", \"manner\": \"approximant\", \"voiced\": True, \"aspirated\": False, \"passive\": \"labiodental\"},\n",
        "    # Sibilants and fricatives\n",
        "    \"श\": {\"ipa\": \"ɕ\", \"manner\": \"fricative\", \"voiced\": False, \"aspirated\": False, \"passive\": \"palatal\"},\n",
        "    \"ष\": {\"ipa\": \"ʂ\", \"manner\": \"fricative\", \"voiced\": False, \"aspirated\": False, \"passive\": \"retroflex\"},\n",
        "    \"स\": {\"ipa\": \"s̪\", \"manner\": \"fricative\", \"voiced\": False, \"aspirated\": False, \"passive\": \"dental\"},\n",
        "    \"ह\": {\"ipa\": \"ɦ\", \"manner\": \"fricative\", \"voiced\": True, \"aspirated\": False, \"passive\": \"glottal\"},\n",
        "    # Marginal affricate symbols (mapped to Devanagari approximations if needed)\n",
        "    \"च̣\": {\"ipa\": \"t͡ʃ\", \"manner\": \"affricate\", \"voiced\": False, \"aspirated\": False, \"passive\": \"alveolopalatal\"},  # variant\n",
        "    \"ज̣\": {\"ipa\": \"d͡ʒ\", \"manner\": \"affricate\", \"voiced\": True, \"aspirated\": False, \"passive\": \"alveolopalatal\"}   # variant\n",
        "}"
      ],
      "metadata": {
        "id": "G3nb_2i0unVe"
      },
      "execution_count": 9,
      "outputs": []
    },
    {
      "cell_type": "code",
      "source": [
        "# Unified PanPhon-style feature inventory\n",
        "unified_features = [\n",
        "    # Core phonation/aspiration/nasality (binary opposites)\n",
        "    \"voiced\", \"aspirated\", \"nasal\",\n",
        "\n",
        "    # Manner (consonants) - one-hot\n",
        "    \"plosive\", \"fricative\", \"affricate\", \"approximant\", \"trill\", \"flap\",\n",
        "    \"lateral_approximant\", \"lateral_flap\",\n",
        "\n",
        "    # Place of articulation (consonants) - one-hot\n",
        "    \"bilabial\", \"labiodental\", \"dental\", \"alveolar\", \"retroflex\",\n",
        "    \"alveolopalatal\", \"palatal\", \"velar\", \"post_velar\", \"glottal\",\n",
        "\n",
        "    # Vowel height - binary opposites\n",
        "    \"high\", \"mid\", \"low\",\n",
        "\n",
        "    # Vowel backness - binary opposites\n",
        "    \"front\", \"back\", \"central\",\n",
        "\n",
        "    # Vowel rounding\n",
        "    \"rounded\",\n",
        "\n",
        "    # Vowel length\n",
        "    \"long\",\n",
        "\n",
        "    # Diphthong\n",
        "    \"diphthong\"\n",
        "]\n"
      ],
      "metadata": {
        "id": "zJJ2ss1DuqxV"
      },
      "execution_count": 10,
      "outputs": []
    },
    {
      "cell_type": "code",
      "source": [
        "def phoneme_to_unified(ch):\n",
        "    vec = []\n",
        "\n",
        "    if ch in sanskrit_consonants:\n",
        "        feats = sanskrit_consonants[ch]\n",
        "\n",
        "        # Binary opposites\n",
        "        vec.append(+1 if feats.get(\"voiced\") else -1)\n",
        "        vec.append(+1 if feats.get(\"aspirated\") else -1)\n",
        "        vec.append(+1 if feats.get(\"manner\") == \"nasal\" else -1)\n",
        "\n",
        "        # Manner one-hot\n",
        "        manner_list = [\"plosive\", \"fricative\", \"affricate\", \"approximant\", \"trill\", \"flap\",\n",
        "                       \"lateral_approximant\", \"lateral_flap\"]\n",
        "        for m in manner_list:\n",
        "            vec.append(+1 if feats.get(\"manner\") == m else 0)\n",
        "\n",
        "        # Place one-hot\n",
        "        place_list = [\"bilabial\", \"labiodental\", \"dental\", \"alveolar\", \"retroflex\",\n",
        "                      \"alveolopalatal\", \"palatal\", \"velar\", \"post_velar\", \"glottal\"]\n",
        "        for p in place_list:\n",
        "            vec.append(+1 if feats.get(\"passive\") == p else 0)\n",
        "\n",
        "        # Vowel features irrelevant here → 0s\n",
        "        vec.extend([0] * (len(unified_features) - len(vec)))\n",
        "\n",
        "    elif ch in sanskrit_vowels:\n",
        "        feats = sanskrit_vowels[ch]\n",
        "\n",
        "        # Consonant binary opposites irrelevant\n",
        "        vec.extend([0, 0, 0])\n",
        "\n",
        "        # Consonant manners irrelevant\n",
        "        vec.extend([0] * 8)\n",
        "\n",
        "        # Consonant places irrelevant\n",
        "        vec.extend([0] * 10)\n",
        "\n",
        "        # Vowel height\n",
        "        height = feats.get(\"height\")\n",
        "        vec.append(+1 if height == \"close\" else -1 if height in [\"mid\", \"near-open\"] else 0)  # high\n",
        "        vec.append(+1 if height in [\"mid\", \"close-mid\"] else -1 if height == \"close\" else 0)  # mid\n",
        "        vec.append(+1 if height == \"near-open\" else -1 if height in [\"close\", \"mid\"] else 0)  # low\n",
        "\n",
        "        # Backness\n",
        "        backness = feats.get(\"backness\") or \"\"\n",
        "        vec.append(+1 if \"front\" in backness else -1 if \"back\" in backness else 0)   # front\n",
        "        vec.append(+1 if \"back\" in backness else -1 if \"front\" in backness else 0)   # back\n",
        "        vec.append(+1 if \"central\" in backness else -1 if any(x in backness for x in [\"front\", \"back\"]) else 0)  # central\n",
        "\n",
        "        # Rounded\n",
        "        if feats.get(\"rounded\") is True:\n",
        "            vec.append(+1)\n",
        "        elif feats.get(\"rounded\") is False:\n",
        "            vec.append(-1)\n",
        "        else:\n",
        "            vec.append(0)\n",
        "\n",
        "        # Long\n",
        "        if feats.get(\"length\") == \"long\":\n",
        "            vec.append(+1)\n",
        "        elif feats.get(\"length\") == \"short\":\n",
        "            vec.append(-1)\n",
        "        else:\n",
        "            vec.append(0)\n",
        "\n",
        "        # Diphthong\n",
        "        if feats.get(\"diphthong\"):\n",
        "            vec.append(+1)\n",
        "        else:\n",
        "            vec.append(-1)\n",
        "\n",
        "    else:\n",
        "        # Unknown phoneme → all zeros\n",
        "        vec = [0] * len(unified_features)\n",
        "\n",
        "    return vec\n"
      ],
      "metadata": {
        "id": "Z7zocrKyu3sr"
      },
      "execution_count": 11,
      "outputs": []
    },
    {
      "cell_type": "code",
      "source": [
        "# converting word to unified sequence\n",
        "def word_to_unified_sequence(word):\n",
        "    return torch.tensor([phoneme_to_unified(ch) for ch in word], dtype=torch.float32)\n"
      ],
      "metadata": {
        "id": "ZhouaQ4Su9WE"
      },
      "execution_count": 12,
      "outputs": []
    },
    {
      "cell_type": "code",
      "source": [
        "import numpy as np\n",
        "\n",
        "def phonological_edit_distance(word1, word2):\n",
        "    seq1 = word_to_unified_sequence(word1).numpy()\n",
        "    seq2 = word_to_unified_sequence(word2).numpy()\n",
        "\n",
        "    n, m = len(seq1), len(seq2)\n",
        "    dp = np.zeros((n+1, m+1))\n",
        "\n",
        "    # Gap penalties — insertion or deletion cost\n",
        "    g = 1.0\n",
        "\n",
        "    for i in range(1, n+1):\n",
        "        dp[i][0] = i * g\n",
        "    for j in range(1, m+1):\n",
        "        dp[0][j] = j * g\n",
        "\n",
        "    for i in range(1, n+1):\n",
        "        for j in range(1, m+1):\n",
        "            sub_cost = np.mean(np.abs(seq1[i-1] - seq2[j-1])) / 2  # normalised\n",
        "            dp[i][j] = min(\n",
        "                dp[i-1][j] + g,       # deletion\n",
        "                dp[i][j-1] + g,       # insertion\n",
        "                dp[i-1][j-1] + sub_cost         # substitution\n",
        "            )\n",
        "\n",
        "    return dp[n][m]\n"
      ],
      "metadata": {
        "id": "8s6jgFcTvF0R"
      },
      "execution_count": 16,
      "outputs": []
    },
    {
      "cell_type": "code",
      "source": [
        "def print_word_vectors(word):\n",
        "    seq = word_to_unified_sequence(word).numpy()\n",
        "    print(f\"\\nWord: {word}\")\n",
        "    for i, vec in enumerate(seq):\n",
        "        print(f\"{word[i]} -> {vec.tolist()}\")\n",
        "\n",
        "def phonological_edit_distance_debug(word1, word2):\n",
        "    print_word_vectors(word1)\n",
        "    print_word_vectors(word2)\n",
        "\n",
        "    dist = phonological_edit_distance(word1, word2)\n",
        "    print(f\"\\nPhonological edit distance ({word1} vs {word2}): {dist}\")\n",
        "\n",
        "\n"
      ],
      "metadata": {
        "id": "1CrBA0G-vP71"
      },
      "execution_count": 17,
      "outputs": []
    },
    {
      "cell_type": "code",
      "source": [
        "phonological_edit_distance_debug(word1=\"नासदीय\", word2=\"ऋग्वेदीय\")\n",
        "# नासदीय सूक्तम् (ऋग्वेदीय सार्थम्)"
      ],
      "metadata": {
        "colab": {
          "base_uri": "https://localhost:8080/"
        },
        "id": "zxbNvdI3vSTR",
        "outputId": "cd31297b-3033-407e-8966-5408e58a9527"
      },
      "execution_count": 18,
      "outputs": [
        {
          "output_type": "stream",
          "name": "stdout",
          "text": [
            "\n",
            "Word: नासदीय\n",
            "न -> [1.0, -1.0, 1.0, 0.0, 0.0, 0.0, 0.0, 0.0, 0.0, 0.0, 0.0, 0.0, 0.0, 1.0, 0.0, 0.0, 0.0, 0.0, 0.0, 0.0, 0.0, 0.0, 0.0, 0.0, 0.0, 0.0, 0.0, 0.0, 0.0, 0.0]\n",
            "ा -> [0.0, 0.0, 0.0, 0.0, 0.0, 0.0, 0.0, 0.0, 0.0, 0.0, 0.0, 0.0, 0.0, 0.0, 0.0, 0.0, 0.0, 0.0, 0.0, 0.0, 0.0, 0.0, 0.0, 0.0, 0.0, 0.0, 0.0, 0.0, 0.0, 0.0]\n",
            "स -> [-1.0, -1.0, -1.0, 0.0, 1.0, 0.0, 0.0, 0.0, 0.0, 0.0, 0.0, 0.0, 0.0, 1.0, 0.0, 0.0, 0.0, 0.0, 0.0, 0.0, 0.0, 0.0, 0.0, 0.0, 0.0, 0.0, 0.0, 0.0, 0.0, 0.0]\n",
            "द -> [1.0, -1.0, -1.0, 1.0, 0.0, 0.0, 0.0, 0.0, 0.0, 0.0, 0.0, 0.0, 0.0, 1.0, 0.0, 0.0, 0.0, 0.0, 0.0, 0.0, 0.0, 0.0, 0.0, 0.0, 0.0, 0.0, 0.0, 0.0, 0.0, 0.0]\n",
            "ी -> [0.0, 0.0, 0.0, 0.0, 0.0, 0.0, 0.0, 0.0, 0.0, 0.0, 0.0, 0.0, 0.0, 0.0, 0.0, 0.0, 0.0, 0.0, 0.0, 0.0, 0.0, 0.0, 0.0, 0.0, 0.0, 0.0, 0.0, 0.0, 0.0, 0.0]\n",
            "य -> [1.0, -1.0, -1.0, 0.0, 0.0, 0.0, 1.0, 0.0, 0.0, 0.0, 0.0, 0.0, 0.0, 0.0, 0.0, 0.0, 0.0, 1.0, 0.0, 0.0, 0.0, 0.0, 0.0, 0.0, 0.0, 0.0, 0.0, 0.0, 0.0, 0.0]\n",
            "\n",
            "Word: ऋग्वेदीय\n",
            "ऋ -> [0.0, 0.0, 0.0, 0.0, 0.0, 0.0, 0.0, 0.0, 0.0, 0.0, 0.0, 0.0, 0.0, 0.0, 0.0, 0.0, 0.0, 0.0, 0.0, 0.0, 0.0, 0.0, 1.0, 0.0, 0.0, 0.0, 1.0, -1.0, -1.0, -1.0]\n",
            "ग -> [1.0, -1.0, -1.0, 1.0, 0.0, 0.0, 0.0, 0.0, 0.0, 0.0, 0.0, 0.0, 0.0, 0.0, 0.0, 0.0, 0.0, 0.0, 1.0, 0.0, 0.0, 0.0, 0.0, 0.0, 0.0, 0.0, 0.0, 0.0, 0.0, 0.0]\n",
            "् -> [0.0, 0.0, 0.0, 0.0, 0.0, 0.0, 0.0, 0.0, 0.0, 0.0, 0.0, 0.0, 0.0, 0.0, 0.0, 0.0, 0.0, 0.0, 0.0, 0.0, 0.0, 0.0, 0.0, 0.0, 0.0, 0.0, 0.0, 0.0, 0.0, 0.0]\n",
            "व -> [1.0, -1.0, -1.0, 0.0, 0.0, 0.0, 1.0, 0.0, 0.0, 0.0, 0.0, 0.0, 1.0, 0.0, 0.0, 0.0, 0.0, 0.0, 0.0, 0.0, 0.0, 0.0, 0.0, 0.0, 0.0, 0.0, 0.0, 0.0, 0.0, 0.0]\n",
            "े -> [0.0, 0.0, 0.0, 0.0, 0.0, 0.0, 0.0, 0.0, 0.0, 0.0, 0.0, 0.0, 0.0, 0.0, 0.0, 0.0, 0.0, 0.0, 0.0, 0.0, 0.0, 0.0, 0.0, 0.0, 0.0, 0.0, 0.0, 0.0, 0.0, 0.0]\n",
            "द -> [1.0, -1.0, -1.0, 1.0, 0.0, 0.0, 0.0, 0.0, 0.0, 0.0, 0.0, 0.0, 0.0, 1.0, 0.0, 0.0, 0.0, 0.0, 0.0, 0.0, 0.0, 0.0, 0.0, 0.0, 0.0, 0.0, 0.0, 0.0, 0.0, 0.0]\n",
            "ी -> [0.0, 0.0, 0.0, 0.0, 0.0, 0.0, 0.0, 0.0, 0.0, 0.0, 0.0, 0.0, 0.0, 0.0, 0.0, 0.0, 0.0, 0.0, 0.0, 0.0, 0.0, 0.0, 0.0, 0.0, 0.0, 0.0, 0.0, 0.0, 0.0, 0.0]\n",
            "य -> [1.0, -1.0, -1.0, 0.0, 0.0, 0.0, 1.0, 0.0, 0.0, 0.0, 0.0, 0.0, 0.0, 0.0, 0.0, 0.0, 0.0, 1.0, 0.0, 0.0, 0.0, 0.0, 0.0, 0.0, 0.0, 0.0, 0.0, 0.0, 0.0, 0.0]\n",
            "\n",
            "Phonological edit distance (नासदीय vs ऋग्वेदीय): 2.1666666716337204\n"
          ]
        }
      ]
    }
  ]
}